{
 "cells": [
  {
   "cell_type": "code",
   "execution_count": 3,
   "metadata": {},
   "outputs": [],
   "source": [
    "%matplotlib inline\n",
    "import numpy as np\n",
    "import matplotlib.pyplot as plt\n",
    "import time\n",
    "\n",
    "train_data = np.load('MNIST/train_data.npy')\n",
    "train_labels = np.load('MNIST/train_labels.npy')\n",
    "\n",
    "test_data = np.load('MNIST/test_data.npy')\n",
    "test_labels = np.load('MNIST/test_labels.npy')"
   ]
  },
  {
   "cell_type": "code",
   "execution_count": 4,
   "metadata": {},
   "outputs": [
    {
     "data": {
      "text/plain": [
       "(7500, 784)"
      ]
     },
     "execution_count": 4,
     "metadata": {},
     "output_type": "execute_result"
    }
   ],
   "source": [
    "train_data.shape"
   ]
  },
  {
   "cell_type": "code",
   "execution_count": 9,
   "metadata": {},
   "outputs": [
    {
     "data": {
      "text/plain": [
       "(1000, 784)"
      ]
     },
     "execution_count": 9,
     "metadata": {},
     "output_type": "execute_result"
    }
   ],
   "source": [
    "test_data.shape"
   ]
  },
  {
   "cell_type": "code",
   "execution_count": 10,
   "metadata": {},
   "outputs": [
    {
     "data": {
      "text/plain": [
       "(7500,)"
      ]
     },
     "execution_count": 10,
     "metadata": {},
     "output_type": "execute_result"
    }
   ],
   "source": [
    "train_labels.shape"
   ]
  },
  {
   "cell_type": "code",
   "execution_count": 11,
   "metadata": {},
   "outputs": [
    {
     "data": {
      "text/plain": [
       "(1000,)"
      ]
     },
     "execution_count": 11,
     "metadata": {},
     "output_type": "execute_result"
    }
   ],
   "source": [
    "test_labels.shape"
   ]
  },
  {
   "cell_type": "code",
   "execution_count": 27,
   "metadata": {},
   "outputs": [
    {
     "name": "stdout",
     "output_type": "stream",
     "text": [
      "5357193.0\n"
     ]
    }
   ],
   "source": [
    "def euclidean_distance(x,y):\n",
    "    return np.sum(np.square(x-y))\n",
    "\n",
    "print euclidean_distance(train_data[4,],train_data[5,])"
   ]
  },
  {
   "cell_type": "code",
   "execution_count": 7,
   "metadata": {},
   "outputs": [],
   "source": [
    "def show_digit(img):\n",
    "    plt.axis('off')\n",
    "    plt.imshow(img.reshape((28,28)), cmap=plt.cm.gray)\n",
    "    plt.show()\n",
    "    return\n",
    "\n",
    "def vis_image(index, dataset='train'):\n",
    "    if dataset == 'train':\n",
    "        show_digit(train_data[index,])\n",
    "        label = train_labels[index]\n",
    "    else:\n",
    "        show_digit(test_data[index,])\n",
    "        label = test_labels[index]\n",
    "    print 'label = ',str(label)\n",
    "    return"
   ]
  },
  {
   "cell_type": "code",
   "execution_count": 8,
   "metadata": {},
   "outputs": [
    {
     "data": {
      "image/png": "[encoded data removed]",
      "text/plain": [
       "<Figure size 432x288 with 1 Axes>"
      ]
     },
     "metadata": {
      "needs_background": "light"
     },
     "output_type": "display_data"
    },
    {
     "name": "stdout",
     "output_type": "stream",
     "text": [
      "label =  8\n"
     ]
    },
    {
     "data": {
      "image/png": "[encoded data removed]",
      "text/plain": [
       "<Figure size 432x288 with 1 Axes>"
      ]
     },
     "metadata": {
      "needs_background": "light"
     },
     "output_type": "display_data"
    },
    {
     "name": "stdout",
     "output_type": "stream",
     "text": [
      "label =  4\n"
     ]
    }
   ],
   "source": [
    "vis_image(100)\n",
    "\n",
    "vis_image(100,'test')"
   ]
  },
  {
   "cell_type": "code",
   "execution_count": 51,
   "metadata": {},
   "outputs": [],
   "source": [
    "def knn_classifier(train,test,train_label,k=3):\n",
    "    distance = []\n",
    "    vote = {} \n",
    "    for index in range(len(train)):\n",
    "        l2_distance = euclidean_distance(test,train[index,])\n",
    "        distance.append([index,l2_distance])\n",
    "    distance = sorted(distance,key=lambda d : d[1])\n",
    "    \n",
    "    neighbours = distance[:k]\n",
    "    \n",
    "    for neighbour in neighbours:\n",
    "        if train_label[neighbour[0]] not in vote:\n",
    "             vote[train_label[neighbour[0]]] = 1\n",
    "        else:\n",
    "             vote[train_label[neighbour[0]]] += 1\n",
    "            \n",
    "    import operator\n",
    "    return max(vote.iteritems(),key=operator.itemgetter(1))[0]\n",
    "    \n",
    "\n",
    "# print knn_classifier(train_data,test_data[100,],train_labels)"
   ]
  },
  {
   "cell_type": "code",
   "execution_count": 53,
   "metadata": {},
   "outputs": [
    {
     "name": "stdout",
     "output_type": "stream",
     "text": [
      "Actual value :  8\n",
      "Predicted value :  4\n"
     ]
    }
   ],
   "source": [
    "print 'Actual value : ',train_labels[100]\n",
    "print 'Predicted value : ',knn_classifier(train_data,test_data[100,],train_labels,k=3)"
   ]
  },
  {
   "cell_type": "code",
   "execution_count": 61,
   "metadata": {},
   "outputs": [
    {
     "name": "stdout",
     "output_type": "stream",
     "text": [
      "Accuracy :  95.3 %\n"
     ]
    }
   ],
   "source": [
    "def accuracy(train,test,test_label,train_label):\n",
    "    predicted_value = [knn_classifier(train,test[i,],train_label) for i in range(len(test))]\n",
    "    \n",
    "    total_points = len(test)\n",
    "    accuracy = np.sum(np.equal(predicted_value,test_label)*1) / float(total_points)\n",
    "    \n",
    "    return accuracy\n",
    "\n",
    "print 'Accuracy : ',accuracy(train_data,test_data,test_labels,train_labels)*100,'%'\n",
    "    "
   ]
  },
  {
   "cell_type": "code",
   "execution_count": null,
   "metadata": {},
   "outputs": [],
   "source": []
  }
 ],
 "metadata": {
  "kernelspec": {
   "display_name": "Python 2",
   "language": "python",
   "name": "python2"
  },
  "language_info": {
   "codemirror_mode": {
    "name": "ipython",
    "version": 2
   },
   "file_extension": ".py",
   "mimetype": "text/x-python",
   "name": "python",
   "nbconvert_exporter": "python",
   "pygments_lexer": "ipython2",
   "version": "2.7.15rc1"
  }
 },
 "nbformat": 4,
 "nbformat_minor": 2
}
